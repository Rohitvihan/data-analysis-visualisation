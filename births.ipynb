{
 "cells": [
  {
   "cell_type": "code",
   "execution_count": 30,
   "id": "1279afb3-ec53-4445-9620-be3f51f9de1b",
   "metadata": {},
   "outputs": [
    {
     "data": {
      "text/plain": [
       "year  gender\n",
       "1969  F         1753634\n",
       "      M         1846572\n",
       "1970  F         1819164\n",
       "      M         1918636\n",
       "1971  F         1736774\n",
       "                 ...   \n",
       "2006  M         2188268\n",
       "2007  F         2111890\n",
       "      M         2212118\n",
       "2008  F         2077929\n",
       "      M         2177227\n",
       "Name: births, Length: 80, dtype: int64"
      ]
     },
     "execution_count": 30,
     "metadata": {},
     "output_type": "execute_result"
    }
   ],
   "source": [
    "#Using the data on births in the United States, provided by the Centers for Disease Control (CDC),\n",
    "#Find i) Total number of US births by year and gender \n",
    "\n",
    "import pandas as pd\n",
    "\n",
    "# Load your birth data into a DataFrame (assuming it's in a CSV or other compatible format)\n",
    "data = pd.read_csv('births.csv')\n",
    "\n",
    "# Group the data by year and gender and sum the counts\n",
    "births_by_year_gender = data.groupby(['year', 'gender'])['births'].sum()\n",
    "births_by_year_gender\n"
   ]
  },
  {
   "cell_type": "code",
   "execution_count": 26,
   "id": "f113280e-9efe-4336-b71d-5fa56375216c",
   "metadata": {},
   "outputs": [
    {
     "data": {
      "text/plain": [
       "day   decade\n",
       "1.0   1960      4840.916667\n",
       "      1970      4517.466667\n",
       "      1980      5030.000000\n",
       "2.0   1960      4903.916667\n",
       "      1970      4538.345833\n",
       "                   ...     \n",
       "30.0  1970      4425.710526\n",
       "      1980      5167.404040\n",
       "31.0  1960      2869.250000\n",
       "      1970      3005.985915\n",
       "      1980      5023.722222\n",
       "Name: births, Length: 93, dtype: float64"
      ]
     },
     "execution_count": 26,
     "metadata": {},
     "output_type": "execute_result"
    }
   ],
   "source": [
    "#ii) Average daily births by day of week and decade\n",
    "data['decade'] = (data['year'] // 10) * 10\n",
    "\n",
    "# Group the data by day of the week and decade and calculate the average daily births\n",
    "average_daily_births = data.groupby(['day', 'decade'])['births'].mean()\n",
    "average_daily_births\n"
   ]
  },
  {
   "cell_type": "code",
   "execution_count": 22,
   "id": "ce51ae10-5af4-4568-8467-6434fed549d9",
   "metadata": {},
   "outputs": [
    {
     "data": {
      "text/plain": [
       "day\n",
       "1.0     4764.279167\n",
       "2.0     4798.266667\n",
       "3.0     4810.597917\n",
       "4.0     4763.725000\n",
       "5.0     4785.314583\n",
       "6.0     4808.485417\n",
       "7.0     4821.002083\n",
       "8.0     4838.283333\n",
       "9.0     2796.937349\n",
       "10.0    4848.327083\n",
       "11.0    4832.418750\n",
       "12.0    4839.491667\n",
       "13.0    4772.700000\n",
       "14.0    4865.731250\n",
       "15.0    4861.304167\n",
       "16.0    4859.283333\n",
       "17.0    4865.537500\n",
       "18.0    4864.477083\n",
       "19.0    4856.631250\n",
       "20.0    4870.064583\n",
       "21.0    4853.256250\n",
       "22.0    4828.564583\n",
       "23.0    4802.445833\n",
       "24.0    4771.875000\n",
       "25.0    4758.281250\n",
       "26.0    4792.100000\n",
       "27.0    4821.016667\n",
       "28.0    4851.312500\n",
       "29.0    4718.271552\n",
       "30.0    4759.528889\n",
       "31.0    3697.316804\n",
       "Name: births, dtype: float64"
      ]
     },
     "execution_count": 22,
     "metadata": {},
     "output_type": "execute_result"
    }
   ],
   "source": [
    "#iii) Average daily births by date\n",
    "average_by_day=data.groupby(['day'])['births'].mean()\n",
    "average_by_day\n",
    "\n"
   ]
  },
  {
   "cell_type": "code",
   "execution_count": null,
   "id": "80d9179e-176a-4230-9e1d-f9931fc0209b",
   "metadata": {},
   "outputs": [],
   "source": []
  }
 ],
 "metadata": {
  "kernelspec": {
   "display_name": "Python 3 (ipykernel)",
   "language": "python",
   "name": "python3"
  },
  "language_info": {
   "codemirror_mode": {
    "name": "ipython",
    "version": 3
   },
   "file_extension": ".py",
   "mimetype": "text/x-python",
   "name": "python",
   "nbconvert_exporter": "python",
   "pygments_lexer": "ipython3",
   "version": "3.11.7"
  }
 },
 "nbformat": 4,
 "nbformat_minor": 5
}
